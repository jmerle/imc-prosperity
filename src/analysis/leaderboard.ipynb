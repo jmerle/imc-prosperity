{
 "cells": [
  {
   "cell_type": "code",
   "execution_count": 7,
   "metadata": {},
   "outputs": [],
   "source": [
    "import json\n",
    "from collections import defaultdict\n",
    "from pathlib import Path"
   ]
  },
  {
   "cell_type": "code",
   "execution_count": 3,
   "metadata": {},
   "outputs": [],
   "source": [
    "data = json.loads((Path.cwd().parent.parent / \"data\" / \"leaderboard.json\").read_text(encoding=\"utf-8\"))"
   ]
  },
  {
   "cell_type": "code",
   "execution_count": 21,
   "metadata": {},
   "outputs": [
    {
     "name": "stdout",
     "output_type": "stream",
     "text": [
      "Number of teams participating in 0 rounds: 6,452 (78.98%)\n",
      "Number of teams participating in 1 rounds: 624 (7.64%)\n",
      "Number of teams participating in 2 rounds: 304 (3.72%)\n",
      "Number of teams participating in 3 rounds: 230 (2.82%)\n",
      "Number of teams participating in 4 rounds: 214 (2.62%)\n",
      "Number of teams participating in 5 rounds: 345 (4.22%)\n"
     ]
    }
   ],
   "source": [
    "rounds_participated = defaultdict(int)\n",
    "\n",
    "for team in data.values():\n",
    "    participations = 0\n",
    "    for round in range(1, 6):\n",
    "        if str(round) not in team[\"results\"] or team[\"results\"][str(round)][\"rank\"] is None:\n",
    "            continue\n",
    "\n",
    "        if round == 1 or str(round - 1) not in team[\"results\"] or team[\"results\"][str(round)][\"profit\"] != team[\"results\"][str(round - 1)][\"profit\"]:\n",
    "            participations += 1\n",
    "    \n",
    "    rounds_participated[participations] += 1\n",
    "\n",
    "team_count = sum(rounds_participated.values())\n",
    "for rounds in range(0, 6):\n",
    "    count = rounds_participated[rounds]\n",
    "    print(f\"Number of teams participating in {rounds} rounds: {count:,.0f} ({count / team_count * 100:,.2f}%)\")"
   ]
  }
 ],
 "metadata": {
  "kernelspec": {
   "display_name": "imc-prosperity",
   "language": "python",
   "name": "python3"
  },
  "language_info": {
   "codemirror_mode": {
    "name": "ipython",
    "version": 3
   },
   "file_extension": ".py",
   "mimetype": "text/x-python",
   "name": "python",
   "nbconvert_exporter": "python",
   "pygments_lexer": "ipython3",
   "version": "3.9.16"
  },
  "orig_nbformat": 4
 },
 "nbformat": 4,
 "nbformat_minor": 2
}
